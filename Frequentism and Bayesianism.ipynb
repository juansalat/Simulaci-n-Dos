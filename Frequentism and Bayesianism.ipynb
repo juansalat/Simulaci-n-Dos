{
 "cells": [
  {
   "cell_type": "code",
   "execution_count": null,
   "id": "6d5ee73d",
   "metadata": {},
   "outputs": [],
   "source": [
    "import numpy as np\n",
    "np.random.seed(2)\n",
    "e=np.random.normal(30,3,50)\n",
    "F=np.random.normal(1000,e)"
   ]
  },
  {
   "cell_type": "code",
   "execution_count": 1,
   "id": "a8598d3b",
   "metadata": {},
   "outputs": [
    {
     "name": "stdout",
     "output_type": "stream",
     "text": [
      "Frequentist estimate of the mean: 2.38\n",
      "95% confidence interval for the mean: (np.float64(1.7602049676954383), np.float64(2.9997950323045615))\n"
     ]
    }
   ],
   "source": [
    "import numpy as np\n",
    "from scipy.stats import norm\n",
    "\n",
    "# Sample data\n",
    "data = np.array([1.2, 2.3, 2.8, 1.9, 3.4, 2.1, 3.1, 2.7, 1.8, 2.5])\n",
    "\n",
    "# Frequentist estimate of the mean\n",
    "mean_estimate = np.mean(data)\n",
    "print(f\"Frequentist estimate of the mean: {mean_estimate}\")\n",
    "\n",
    "# 95% confidence interval for the mean\n",
    "n = len(data)\n",
    "confidence_level = 0.95\n",
    "z_critical = norm.ppf((1 + confidence_level) / 2)\n",
    "margin_of_error = z_critical * (1 / np.sqrt(n))\n",
    "confidence_interval = (mean_estimate - margin_of_error, mean_estimate + margin_of_error)\n",
    "print(f\"95% confidence interval for the mean: {confidence_interval}\")\n"
   ]
  },
  {
   "cell_type": "code",
   "execution_count": 2,
   "id": "03604197",
   "metadata": {},
   "outputs": [
    {
     "name": "stdout",
     "output_type": "stream",
     "text": [
      "Bayesian estimate of the mean: 0.21636363636363634\n"
     ]
    },
    {
     "data": {
      "image/png": "[encoded data removed]",
      "text/plain": [
       "<Figure size 432x288 with 1 Axes>"
      ]
     },
     "metadata": {
      "needs_background": "light"
     },
     "output_type": "display_data"
    }
   ],
   "source": [
    "import numpy as np\n",
    "import matplotlib.pyplot as plt\n",
    "from scipy.stats import norm\n",
    "\n",
    "# Sample data\n",
    "data = np.array([1.2, 2.3, 2.8, 1.9, 3.4, 2.1, 3.1, 2.7, 1.8, 2.5])\n",
    "\n",
    "# Prior parameters\n",
    "prior_mean = 0\n",
    "prior_variance = 1\n",
    "\n",
    "# Data parameters\n",
    "sample_mean = np.mean(data)\n",
    "sample_size = len(data)\n",
    "sample_variance = 1\n",
    "\n",
    "# Posterior parameters\n",
    "posterior_mean = (sample_size * sample_variance * prior_mean + sample_mean * prior_variance) / (sample_size * sample_variance + prior_variance)\n",
    "posterior_variance = (sample_variance * prior_variance) / (sample_size * sample_variance + prior_variance)\n",
    "\n",
    "print(f\"Bayesian estimate of the mean: {posterior_mean}\")\n",
    "\n",
    "# Plot the prior, likelihood, and posterior distributions\n",
    "x = np.linspace(-1, 5, 1000)\n",
    "prior_dist = norm.pdf(x, prior_mean, np.sqrt(prior_variance))\n",
    "likelihood_dist = norm.pdf(x, sample_mean, np.sqrt(sample_variance / sample_size))\n",
    "posterior_dist = norm.pdf(x, posterior_mean, np.sqrt(posterior_variance))\n",
    "\n",
    "plt.plot(x, prior_dist, label='Prior')\n",
    "plt.plot(x, likelihood_dist, label='Likelihood')\n",
    "plt.plot(x, posterior_dist, label='Posterior')\n",
    "plt.legend()\n",
    "plt.show()"
   ]
  },
  {
   "cell_type": "code",
   "execution_count": 3,
   "id": "ebd2c6ea",
   "metadata": {},
   "outputs": [
    {
     "name": "stdout",
     "output_type": "stream",
     "text": [
      "The value of P(B|D) is: 0.09090909090909091\n"
     ]
    }
   ],
   "source": [
    "# Import the required function from the scipy.special module\n",
    "from scipy.special import beta\n",
    "\n",
    "# Calculate the Beta function values\n",
    "# We use beta(7, 6) for the numerator and beta(4, 6) for the denominator\n",
    "numerator = beta(6 + 1, 5 + 1)\n",
    "denominator = beta(3 + 1, 5 + 1)\n",
    "\n",
    "# Calculate the ratio P(B|D)\n",
    "P_B_D = numerator / denominator\n",
    "\n",
    "# Print the result\n",
    "print(f\"The value of P(B|D) is: {P_B_D}\")"
   ]
  },
  {
   "cell_type": "code",
   "execution_count": 4,
   "id": "39ea7526",
   "metadata": {},
   "outputs": [
    {
     "name": "stdout",
     "output_type": "stream",
     "text": [
      "x data: [37.45401188 95.07143064 73.19939418 59.86584842 15.60186404 15.59945203\n",
      "  5.80836122 86.61761458 60.11150117 70.80725778  2.05844943 96.99098522\n",
      " 83.24426408 21.23391107 18.18249672 18.34045099 30.4242243  52.47564316\n",
      " 43.19450186 29.12291402]\n",
      "y data: [33.59869474 75.67818865 52.51945634 40.8098872  47.45741971 30.54196301\n",
      " 28.57946266 54.06132543 49.61192334 61.51285479 14.51928894 77.25247279\n",
      " 60.61574514 32.70001804 28.07418224 52.69300734 40.0771399  40.66071229\n",
      " 54.82270005 27.35302051]\n"
     ]
    }
   ],
   "source": [
    "import numpy as np\n",
    "\n",
    "# Set the random seed for reproducibility\n",
    "np.random.seed(42)\n",
    "\n",
    "# True parameters (theta)\n",
    "theta_true = (25, 0.5)\n",
    "\n",
    "# Generate 20 random x values between 0 and 100\n",
    "xdata = 100 * np.random.random(20)\n",
    "\n",
    "# Calculate the corresponding y values using the true parameters\n",
    "ydata = theta_true[0] + theta_true[1] * xdata\n",
    "\n",
    "# Add normally distributed noise with a standard deviation of 10 to y values\n",
    "ydata = np.random.normal(ydata, 10)\n",
    "\n",
    "# Print the generated data for verification\n",
    "print(\"x data:\", xdata)\n",
    "print(\"y data:\", ydata)"
   ]
  },
  {
   "cell_type": "code",
   "execution_count": null,
   "id": "487434a0",
   "metadata": {},
   "outputs": [],
   "source": []
  }
 ],
 "metadata": {
  "kernelspec": {
   "display_name": "Python 3 (ipykernel)",
   "language": "python",
   "name": "python3"
  },
  "language_info": {
   "codemirror_mode": {
    "name": "ipython",
    "version": 3
   },
   "file_extension": ".py",
   "mimetype": "text/x-python",
   "name": "python",
   "nbconvert_exporter": "python",
   "pygments_lexer": "ipython3",
   "version": "3.10.0"
  }
 },
 "nbformat": 4,
 "nbformat_minor": 5
}
